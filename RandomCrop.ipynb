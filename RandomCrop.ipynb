{
 "cells": [
  {
   "cell_type": "code",
   "execution_count": 7,
   "id": "f534935e-3033-436a-b863-f67dffb0e668",
   "metadata": {},
   "outputs": [],
   "source": [
    "import os\n",
    "import pathlib\n",
    "import tensorflow as tf\n",
    "from os import listdir\n",
    "from numpy import expand_dims\n",
    "from os.path import join, isfile\n",
    "from tensorflow.keras.preprocessing.image import load_img, ImageDataGenerator, img_to_array\n",
    "\n",
    "current_directory = os.getcwd()\n",
    "\n",
    "def random_crop(image):\n",
    "    #print(image.size)\n",
    "    height, width = image.size\n",
    "    \n",
    "    x = int(height/2)\n",
    "    y = int(width/2)\n",
    "    \n",
    "    cropped_image = tf.image.random_crop(image, size=[y, x, 3])\n",
    "    #print(cropped_image.shape)\n",
    "    return cropped_image\n",
    "\n",
    "def generateRandomCropFromDirectory(dir, save_dir):\n",
    "\n",
    "    files = [f for f in listdir(dir) if isfile(join(dir, f))]\n",
    "    \n",
    "    for file in files:\n",
    "      if (file.lower().endswith(('.jpg'))):\n",
    "\n",
    "        img_path = str(dir.resolve()) + \"/\" +  file        \n",
    "        img = load_img(img_path)        \n",
    "        img = random_crop(img)        \n",
    "        img_data = img_to_array(img)\n",
    "        img_sample = expand_dims(img_data, 0)\n",
    "        random_crop_in_datagen = ImageDataGenerator(zoom_range=0)\n",
    "        #zoo igual a zero é só uma gambiarra pra rodar o codigo        \n",
    "        filename = file.replace(\".jpg\", \"\")\n",
    "        for batch in random_crop_in_datagen.flow(img_sample, \n",
    "            batch_size=1,\n",
    "            save_to_dir=save_dir, \n",
    "            save_prefix=filename, \n",
    "            save_format='jpg'):\n",
    "            break\n",
    "                       \n",
    "RandomUnder_save_dir = \"DataAugmentation/RandomCrop/22Under\"\n",
    "RandomOver_save_dir = \"DataAugmentation/RandomCrop/22OrOver\" \n",
    "\n",
    "data22Under_dir = pathlib.Path(current_directory + \"/data/22Under/\")\n",
    "data22Over_dir = pathlib.Path(current_directory + \"/data/22OrOver/\")\n",
    "\n",
    "generateRandomCropFromDirectory(data22Under_dir, RandomUnder_save_dir)\n",
    "#print('pasta 1 completa')\n",
    "generateRandomCropFromDirectory(data22Over_dir, RandomOver_save_dir)\n",
    "#print('pasta 2 completa')"
   ]
  },
  {
   "cell_type": "code",
   "execution_count": null,
   "id": "acec83e4-65d3-43ef-a82d-5a7b30ac360b",
   "metadata": {},
   "outputs": [],
   "source": []
  }
 ],
 "metadata": {
  "kernelspec": {
   "display_name": "Python 3 (ipykernel)",
   "language": "python",
   "name": "python3"
  },
  "language_info": {
   "codemirror_mode": {
    "name": "ipython",
    "version": 3
   },
   "file_extension": ".py",
   "mimetype": "text/x-python",
   "name": "python",
   "nbconvert_exporter": "python",
   "pygments_lexer": "ipython3",
   "version": "3.9.7"
  }
 },
 "nbformat": 4,
 "nbformat_minor": 5
}
